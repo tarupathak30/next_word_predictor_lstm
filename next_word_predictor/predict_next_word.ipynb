{
  "nbformat": 4,
  "nbformat_minor": 0,
  "metadata": {
    "colab": {
      "provenance": [],
      "gpuType": "T4"
    },
    "kernelspec": {
      "name": "python3",
      "display_name": "Python 3"
    },
    "language_info": {
      "name": "python"
    },
    "accelerator": "GPU"
  },
  "cells": [
    {
      "cell_type": "code",
      "source": [
        "from google.colab import files\n",
        "files.upload()"
      ],
      "metadata": {
        "id": "8iqFBIjQ1iF-",
        "colab": {
          "base_uri": "https://localhost:8080/",
          "height": 90
        },
        "outputId": "17d84f62-d2a4-4f87-e27a-e19a3ee78ad2"
      },
      "execution_count": 1,
      "outputs": [
        {
          "output_type": "display_data",
          "data": {
            "text/plain": [
              "<IPython.core.display.HTML object>"
            ],
            "text/html": [
              "\n",
              "     <input type=\"file\" id=\"files-ba075923-5bc0-46f6-a5e3-624998d9ce1b\" name=\"files[]\" multiple disabled\n",
              "        style=\"border:none\" />\n",
              "     <output id=\"result-ba075923-5bc0-46f6-a5e3-624998d9ce1b\">\n",
              "      Upload widget is only available when the cell has been executed in the\n",
              "      current browser session. Please rerun this cell to enable.\n",
              "      </output>\n",
              "      <script>// Copyright 2017 Google LLC\n",
              "//\n",
              "// Licensed under the Apache License, Version 2.0 (the \"License\");\n",
              "// you may not use this file except in compliance with the License.\n",
              "// You may obtain a copy of the License at\n",
              "//\n",
              "//      http://www.apache.org/licenses/LICENSE-2.0\n",
              "//\n",
              "// Unless required by applicable law or agreed to in writing, software\n",
              "// distributed under the License is distributed on an \"AS IS\" BASIS,\n",
              "// WITHOUT WARRANTIES OR CONDITIONS OF ANY KIND, either express or implied.\n",
              "// See the License for the specific language governing permissions and\n",
              "// limitations under the License.\n",
              "\n",
              "/**\n",
              " * @fileoverview Helpers for google.colab Python module.\n",
              " */\n",
              "(function(scope) {\n",
              "function span(text, styleAttributes = {}) {\n",
              "  const element = document.createElement('span');\n",
              "  element.textContent = text;\n",
              "  for (const key of Object.keys(styleAttributes)) {\n",
              "    element.style[key] = styleAttributes[key];\n",
              "  }\n",
              "  return element;\n",
              "}\n",
              "\n",
              "// Max number of bytes which will be uploaded at a time.\n",
              "const MAX_PAYLOAD_SIZE = 100 * 1024;\n",
              "\n",
              "function _uploadFiles(inputId, outputId) {\n",
              "  const steps = uploadFilesStep(inputId, outputId);\n",
              "  const outputElement = document.getElementById(outputId);\n",
              "  // Cache steps on the outputElement to make it available for the next call\n",
              "  // to uploadFilesContinue from Python.\n",
              "  outputElement.steps = steps;\n",
              "\n",
              "  return _uploadFilesContinue(outputId);\n",
              "}\n",
              "\n",
              "// This is roughly an async generator (not supported in the browser yet),\n",
              "// where there are multiple asynchronous steps and the Python side is going\n",
              "// to poll for completion of each step.\n",
              "// This uses a Promise to block the python side on completion of each step,\n",
              "// then passes the result of the previous step as the input to the next step.\n",
              "function _uploadFilesContinue(outputId) {\n",
              "  const outputElement = document.getElementById(outputId);\n",
              "  const steps = outputElement.steps;\n",
              "\n",
              "  const next = steps.next(outputElement.lastPromiseValue);\n",
              "  return Promise.resolve(next.value.promise).then((value) => {\n",
              "    // Cache the last promise value to make it available to the next\n",
              "    // step of the generator.\n",
              "    outputElement.lastPromiseValue = value;\n",
              "    return next.value.response;\n",
              "  });\n",
              "}\n",
              "\n",
              "/**\n",
              " * Generator function which is called between each async step of the upload\n",
              " * process.\n",
              " * @param {string} inputId Element ID of the input file picker element.\n",
              " * @param {string} outputId Element ID of the output display.\n",
              " * @return {!Iterable<!Object>} Iterable of next steps.\n",
              " */\n",
              "function* uploadFilesStep(inputId, outputId) {\n",
              "  const inputElement = document.getElementById(inputId);\n",
              "  inputElement.disabled = false;\n",
              "\n",
              "  const outputElement = document.getElementById(outputId);\n",
              "  outputElement.innerHTML = '';\n",
              "\n",
              "  const pickedPromise = new Promise((resolve) => {\n",
              "    inputElement.addEventListener('change', (e) => {\n",
              "      resolve(e.target.files);\n",
              "    });\n",
              "  });\n",
              "\n",
              "  const cancel = document.createElement('button');\n",
              "  inputElement.parentElement.appendChild(cancel);\n",
              "  cancel.textContent = 'Cancel upload';\n",
              "  const cancelPromise = new Promise((resolve) => {\n",
              "    cancel.onclick = () => {\n",
              "      resolve(null);\n",
              "    };\n",
              "  });\n",
              "\n",
              "  // Wait for the user to pick the files.\n",
              "  const files = yield {\n",
              "    promise: Promise.race([pickedPromise, cancelPromise]),\n",
              "    response: {\n",
              "      action: 'starting',\n",
              "    }\n",
              "  };\n",
              "\n",
              "  cancel.remove();\n",
              "\n",
              "  // Disable the input element since further picks are not allowed.\n",
              "  inputElement.disabled = true;\n",
              "\n",
              "  if (!files) {\n",
              "    return {\n",
              "      response: {\n",
              "        action: 'complete',\n",
              "      }\n",
              "    };\n",
              "  }\n",
              "\n",
              "  for (const file of files) {\n",
              "    const li = document.createElement('li');\n",
              "    li.append(span(file.name, {fontWeight: 'bold'}));\n",
              "    li.append(span(\n",
              "        `(${file.type || 'n/a'}) - ${file.size} bytes, ` +\n",
              "        `last modified: ${\n",
              "            file.lastModifiedDate ? file.lastModifiedDate.toLocaleDateString() :\n",
              "                                    'n/a'} - `));\n",
              "    const percent = span('0% done');\n",
              "    li.appendChild(percent);\n",
              "\n",
              "    outputElement.appendChild(li);\n",
              "\n",
              "    const fileDataPromise = new Promise((resolve) => {\n",
              "      const reader = new FileReader();\n",
              "      reader.onload = (e) => {\n",
              "        resolve(e.target.result);\n",
              "      };\n",
              "      reader.readAsArrayBuffer(file);\n",
              "    });\n",
              "    // Wait for the data to be ready.\n",
              "    let fileData = yield {\n",
              "      promise: fileDataPromise,\n",
              "      response: {\n",
              "        action: 'continue',\n",
              "      }\n",
              "    };\n",
              "\n",
              "    // Use a chunked sending to avoid message size limits. See b/62115660.\n",
              "    let position = 0;\n",
              "    do {\n",
              "      const length = Math.min(fileData.byteLength - position, MAX_PAYLOAD_SIZE);\n",
              "      const chunk = new Uint8Array(fileData, position, length);\n",
              "      position += length;\n",
              "\n",
              "      const base64 = btoa(String.fromCharCode.apply(null, chunk));\n",
              "      yield {\n",
              "        response: {\n",
              "          action: 'append',\n",
              "          file: file.name,\n",
              "          data: base64,\n",
              "        },\n",
              "      };\n",
              "\n",
              "      let percentDone = fileData.byteLength === 0 ?\n",
              "          100 :\n",
              "          Math.round((position / fileData.byteLength) * 100);\n",
              "      percent.textContent = `${percentDone}% done`;\n",
              "\n",
              "    } while (position < fileData.byteLength);\n",
              "  }\n",
              "\n",
              "  // All done.\n",
              "  yield {\n",
              "    response: {\n",
              "      action: 'complete',\n",
              "    }\n",
              "  };\n",
              "}\n",
              "\n",
              "scope.google = scope.google || {};\n",
              "scope.google.colab = scope.google.colab || {};\n",
              "scope.google.colab._files = {\n",
              "  _uploadFiles,\n",
              "  _uploadFilesContinue,\n",
              "};\n",
              "})(self);\n",
              "</script> "
            ]
          },
          "metadata": {}
        },
        {
          "output_type": "stream",
          "name": "stdout",
          "text": [
            "Saving kaggle (1).json to kaggle (1).json\n"
          ]
        },
        {
          "output_type": "execute_result",
          "data": {
            "text/plain": [
              "{'kaggle (1).json': b'{\"username\":\"gauchetaru\",\"key\":\"4d22064d638b068c7e729d3f634eee12\"}'}"
            ]
          },
          "metadata": {},
          "execution_count": 1
        }
      ]
    },
    {
      "cell_type": "code",
      "source": [
        "!mkdir -p ~/.kaggle\n",
        "!cp kaggle.json ~/.kaggle/\n",
        "!chmod 600 ~/.kaggle/kaggle.json\n"
      ],
      "metadata": {
        "id": "qwGBWNpQGHWR"
      },
      "execution_count": 2,
      "outputs": []
    },
    {
      "cell_type": "code",
      "source": [
        "#!/bin/bash\n",
        "!kaggle datasets download muhammadbilalhaneef/sherlock-holmes-next-word-prediction-corpus"
      ],
      "metadata": {
        "colab": {
          "base_uri": "https://localhost:8080/"
        },
        "id": "4tJwEuYXHL7c",
        "outputId": "8993e7e4-6c4e-42d5-cc9f-460e310e5247"
      },
      "execution_count": 3,
      "outputs": [
        {
          "output_type": "stream",
          "name": "stdout",
          "text": [
            "Dataset URL: https://www.kaggle.com/datasets/muhammadbilalhaneef/sherlock-holmes-next-word-prediction-corpus\n",
            "License(s): CC0-1.0\n",
            "sherlock-holmes-next-word-prediction-corpus.zip: Skipping, found more recently modified local copy (use --force to force download)\n"
          ]
        }
      ]
    },
    {
      "cell_type": "code",
      "source": [
        "import tensorflow\n",
        "from tensorflow.keras.preprocessing.text import Tokenizer\n",
        "from tensorflow.keras.layers import Dense, Embedding, LSTM, Dropout\n",
        "from tensorflow.keras.models import Sequential\n",
        "from tensorflow.keras.utils import to_categorical\n",
        "from tensorflow.keras.optimizers import Adam\n",
        "import pickle\n",
        "import numpy as np\n",
        "import os"
      ],
      "metadata": {
        "id": "B8s_FUQpHj15"
      },
      "execution_count": 1,
      "outputs": []
    },
    {
      "cell_type": "code",
      "source": [
        "!unzip /content/sherlock-holmes-next-word-prediction-corpus.zip -d /content/\n"
      ],
      "metadata": {
        "colab": {
          "base_uri": "https://localhost:8080/"
        },
        "id": "QCUlqtrSIIYm",
        "outputId": "c7168d4f-8d4d-4ec3-f7fa-6b3dd2a34fe3"
      },
      "execution_count": 5,
      "outputs": [
        {
          "output_type": "stream",
          "name": "stdout",
          "text": [
            "Archive:  /content/sherlock-holmes-next-word-prediction-corpus.zip\n",
            "replace /content/Sherlock Holmes.txt? [y]es, [n]o, [A]ll, [N]one, [r]ename: "
          ]
        }
      ]
    },
    {
      "cell_type": "code",
      "source": [
        "file = open('/content/Sherlock Holmes.txt', 'r', encoding='utf-8')"
      ],
      "metadata": {
        "id": "2qWShwuAIJQe"
      },
      "execution_count": 2,
      "outputs": []
    },
    {
      "cell_type": "code",
      "source": [
        "lines = []\n",
        "for i in file:\n",
        "    lines.append(i)"
      ],
      "metadata": {
        "id": "a2L5K0xAIQXd"
      },
      "execution_count": 3,
      "outputs": []
    },
    {
      "cell_type": "code",
      "source": [
        "data = \"\"\n",
        "for i in lines:\n",
        "    data = ' '.join(lines)"
      ],
      "metadata": {
        "id": "Yyd941-rIR7Q"
      },
      "execution_count": 4,
      "outputs": []
    },
    {
      "cell_type": "code",
      "source": [
        "data = data.replace(\"\\\\'\", \"'\").replace('\\ufeff', '')"
      ],
      "metadata": {
        "id": "7OaY3AEiITSd"
      },
      "execution_count": 5,
      "outputs": []
    },
    {
      "cell_type": "code",
      "source": [
        "data = data.split()\n",
        "data = ' '.join(data)"
      ],
      "metadata": {
        "id": "a2qtxPzSIU1h"
      },
      "execution_count": 6,
      "outputs": []
    },
    {
      "cell_type": "code",
      "source": [
        "data[:1000]"
      ],
      "metadata": {
        "colab": {
          "base_uri": "https://localhost:8080/",
          "height": 174
        },
        "id": "jQhgpYgcIWI6",
        "outputId": "897d858d-faf9-4620-cc16-e808cdf8ae58"
      },
      "execution_count": 7,
      "outputs": [
        {
          "output_type": "execute_result",
          "data": {
            "text/plain": [
              "\"THE ADVENTURES OF SHERLOCK HOLMES Arthur Conan Doyle Table of contents A Scandal in Bohemia The Red-Headed League A Case of Identity The Boscombe Valley Mystery The Five Orange Pips The Man with the Twisted Lip The Adventure of the Blue Carbuncle The Adventure of the Speckled Band The Adventure of the Engineer's Thumb The Adventure of the Noble Bachelor The Adventure of the Beryl Coronet The Adventure of the Copper Beeches A SCANDAL IN BOHEMIA Table of contents Chapter 1 Chapter 2 Chapter 3 CHAPTER I To Sherlock Holmes she is always the woman. I have seldom heard him mention her under any other name. In his eyes she eclipses and predominates the whole of her sex. It was not that he felt any emotion akin to love for Irene Adler. All emotions, and that one particularly, were abhorrent to his cold, precise but admirably balanced mind. He was, I take it, the most perfect reasoning and observing machine that the world has seen, but as a lover he would have placed himself in a false position\""
            ],
            "application/vnd.google.colaboratory.intrinsic+json": {
              "type": "string"
            }
          },
          "metadata": {},
          "execution_count": 7
        }
      ]
    },
    {
      "cell_type": "code",
      "source": [
        "tokenizer = Tokenizer()\n",
        "tokenizer.fit_on_texts([data])"
      ],
      "metadata": {
        "id": "qard2r9MIXi4"
      },
      "execution_count": 8,
      "outputs": []
    },
    {
      "cell_type": "code",
      "source": [
        "pickle.dump(tokenizer, open('token.pkl', 'wb'))"
      ],
      "metadata": {
        "id": "490YzKs2IaDO"
      },
      "execution_count": 9,
      "outputs": []
    },
    {
      "cell_type": "code",
      "source": [
        "sequence_data = tokenizer.texts_to_sequences([data])[0]"
      ],
      "metadata": {
        "id": "lzpeqOybIbdq"
      },
      "execution_count": 10,
      "outputs": []
    },
    {
      "cell_type": "code",
      "source": [
        "sequence_data[:10]"
      ],
      "metadata": {
        "colab": {
          "base_uri": "https://localhost:8080/"
        },
        "id": "DvKWg1o9IdYS",
        "outputId": "ed1191db-e5fc-4ca0-e619-bdbee89f6fd0"
      },
      "execution_count": 11,
      "outputs": [
        {
          "output_type": "execute_result",
          "data": {
            "text/plain": [
              "[1, 1561, 5, 129, 34, 647, 4498, 4499, 226, 5]"
            ]
          },
          "metadata": {},
          "execution_count": 11
        }
      ]
    },
    {
      "cell_type": "code",
      "source": [
        "len(sequence_data)"
      ],
      "metadata": {
        "colab": {
          "base_uri": "https://localhost:8080/"
        },
        "id": "xLawEcQ7Iemk",
        "outputId": "b76eb1bb-5a90-47fe-cc61-e5e17adf7e6e"
      },
      "execution_count": 12,
      "outputs": [
        {
          "output_type": "execute_result",
          "data": {
            "text/plain": [
              "105879"
            ]
          },
          "metadata": {},
          "execution_count": 12
        }
      ]
    },
    {
      "cell_type": "code",
      "source": [
        "vocab_size = len(tokenizer.word_index) + 1"
      ],
      "metadata": {
        "id": "3B2CWC4oIf9s"
      },
      "execution_count": 13,
      "outputs": []
    },
    {
      "cell_type": "markdown",
      "source": [
        "len(tokenizer.word_index) gives us number of unique words.\n",
        "\n",
        "why +1? because we need space for the padding token.\n",
        "\n",
        "each word has a number what about empty space.\n",
        "\n",
        "we add +1 so the model can handle the \"nothing here\" token(Index 0) just like it handle real words.\n",
        "\n",
        "as index 0 is reserved for padding:)"
      ],
      "metadata": {
        "id": "k0Nym7_IIh-U"
      }
    },
    {
      "cell_type": "markdown",
      "source": [],
      "metadata": {
        "id": "uRpbTGONIlZM"
      }
    },
    {
      "cell_type": "code",
      "source": [
        "sequence = []\n",
        "\n",
        "for i in range(10, len(sequence_data)):\n",
        "    words = sequence_data[i - 10 : i + 1] #this creates a 4 token chunk, previous 3 tokens + current one\n",
        "    sequence.append(words)"
      ],
      "metadata": {
        "id": "Csr9rcaaIhaH"
      },
      "execution_count": 14,
      "outputs": []
    },
    {
      "cell_type": "code",
      "source": [
        "sequence = np.array(sequence)"
      ],
      "metadata": {
        "id": "biZVDuAzIm1z"
      },
      "execution_count": 15,
      "outputs": []
    },
    {
      "cell_type": "code",
      "source": [
        "sequence"
      ],
      "metadata": {
        "colab": {
          "base_uri": "https://localhost:8080/"
        },
        "id": "QDBF8XNKIobO",
        "outputId": "e5c0bc55-8f6f-4ba0-89d6-e50abaaa3d5b"
      },
      "execution_count": 16,
      "outputs": [
        {
          "output_type": "execute_result",
          "data": {
            "text/plain": [
              "array([[   1, 1561,    5, ...,  226,    5, 1562],\n",
              "       [1561,    5,  129, ...,    5, 1562,    6],\n",
              "       [   5,  129,   34, ..., 1562,    6,  827],\n",
              "       ...,\n",
              "       [8197, 1143,   84, ...,    1, 8198, 8199],\n",
              "       [1143,   84,    9, ..., 8198, 8199, 3187],\n",
              "       [  84,    9,   30, ..., 8199, 3187, 3186]])"
            ]
          },
          "metadata": {},
          "execution_count": 16
        }
      ]
    },
    {
      "cell_type": "code",
      "source": [
        "x = []\n",
        "y = []\n",
        "\n",
        "for i in sequence:\n",
        "    x.append(i[0:3])\n",
        "    y.append(i[3])\n",
        "\n",
        "x = np.array(x)\n",
        "y = np.array(y)"
      ],
      "metadata": {
        "id": "3YBui0inIqGm"
      },
      "execution_count": 17,
      "outputs": []
    },
    {
      "cell_type": "code",
      "source": [
        "x.shape, y.shape"
      ],
      "metadata": {
        "colab": {
          "base_uri": "https://localhost:8080/"
        },
        "id": "y4zgzGeIIr8A",
        "outputId": "ea755b95-da19-4bf3-e239-e2626d644bd4"
      },
      "execution_count": 18,
      "outputs": [
        {
          "output_type": "execute_result",
          "data": {
            "text/plain": [
              "((105869, 3), (105869,))"
            ]
          },
          "metadata": {},
          "execution_count": 18
        }
      ]
    },
    {
      "cell_type": "code",
      "source": [
        "y = to_categorical(y, num_classes=vocab_size)"
      ],
      "metadata": {
        "id": "e6vk4iZpItUk"
      },
      "execution_count": 19,
      "outputs": []
    },
    {
      "cell_type": "code",
      "source": [
        "y.shape"
      ],
      "metadata": {
        "colab": {
          "base_uri": "https://localhost:8080/"
        },
        "id": "SOqMA-iBIuja",
        "outputId": "eabc1b22-34a9-441e-f309-5c1afa05472b"
      },
      "execution_count": 20,
      "outputs": [
        {
          "output_type": "execute_result",
          "data": {
            "text/plain": [
              "(105869, 8200)"
            ]
          },
          "metadata": {},
          "execution_count": 20
        }
      ]
    },
    {
      "cell_type": "code",
      "source": [
        "from tensorflow.keras.regularizers import l2\n",
        "from tensorflow.keras.layers import BatchNormalization\n",
        "\n",
        "weight_decay = 1e-5"
      ],
      "metadata": {
        "id": "EIMPfigUIv1R"
      },
      "execution_count": 21,
      "outputs": []
    },
    {
      "cell_type": "markdown",
      "source": [
        "Building the LSTM model"
      ],
      "metadata": {
        "id": "Xb0XfEwzIxm4"
      }
    },
    {
      "cell_type": "code",
      "source": [
        "model = Sequential()\n",
        "\n",
        "model.add(Embedding(vocab_size, 50, input_length = 10))\n",
        "model.add(LSTM(128, dropout=0.2, return_sequences=True, kernel_regularizer=l2(weight_decay)))\n",
        "BatchNormalization()\n",
        "model.add(LSTM(128, dropout=0.2, kernel_regularizer=l2(weight_decay)))\n",
        "BatchNormalization()\n",
        "model.add(Dense(128, activation='relu', kernel_regularizer=l2(weight_decay)))\n",
        "BatchNormalization()\n",
        "Dropout(0.2)\n",
        "model.add(Dense(vocab_size, activation='softmax'))"
      ],
      "metadata": {
        "colab": {
          "base_uri": "https://localhost:8080/"
        },
        "id": "YLJNumkrIxHj",
        "outputId": "ac7db19c-c76b-48bc-e271-8173ec7a364f"
      },
      "execution_count": 22,
      "outputs": [
        {
          "output_type": "stream",
          "name": "stderr",
          "text": [
            "/usr/local/lib/python3.12/dist-packages/keras/src/layers/core/embedding.py:97: UserWarning: Argument `input_length` is deprecated. Just remove it.\n",
            "  warnings.warn(\n"
          ]
        }
      ]
    },
    {
      "cell_type": "markdown",
      "source": [
        "first we have embedding.\n",
        "\n",
        "\n",
        "we have already one hot encoded each word. they are sparse(alot of zeros) and equal distance like (dog-cat same as dog-airplane), no meaning.\n",
        "\n",
        "\n",
        "model doesn't know that dog and cat are the same.\n",
        "\n",
        "\n",
        "or 'walking' and 'run' are closer to each other than 'building'.\n",
        "\n",
        "\n",
        "\n",
        "what embeddings do?\n",
        "\n",
        "embeddings take each word and map into a smaller continuous space(like 50D or 100D), so in this space similar words live closer, relationships get preserved.\n",
        "\n",
        "this way you can measure distances, clusters and relationships.\n",
        "\n",
        "we talked about 50D or 100D vector, the vectors are trainable, they change so that the model's world aligns with the text of the training.\n",
        "\n",
        "\n",
        "\n",
        "so, maybe the main spice is embeddings, where they teach the model the language of meaning, instead of raw IDs.\n",
        "\n",
        "we just take 3 tokens into consideration.\n",
        "\n"
      ],
      "metadata": {
        "id": "oXAwUjcsI3ry"
      }
    },
    {
      "cell_type": "markdown",
      "source": [
        "now, the real memory unit\n",
        "\n",
        "LSTM, it reads sequences step by step. it is better than vanilla RNN because it remembers long-term dependencies(remember vanishing gradient issue).\n",
        "\n",
        "\n",
        "here, return_sequences = True, so that it return the hidden sequences for each word in the 3-word sequence, not just the last one.\n",
        "\n",
        "\n",
        "take it like, we are watching a movie, and we want to keep all the timestamps, because we live by all the scenes not just the ending scene.\n",
        "\n",
        "so,that by next time i watch it i can remember my favourite part.\n",
        "\n",
        "\n",
        "that way, by returning sequences from the first LSTM, we can remember the whole flow by the next 'memory unit'(LSTM).\n",
        "\n",
        "\n",
        "\n",
        "now, we have another LSTM stacked on top, this time, return_sequences=False(the default one) as it only outputs the final state.\n",
        "\n",
        "take it like, i have read 3 words, here is distilled memory of it."
      ],
      "metadata": {
        "id": "K2DKxfRgI43S"
      }
    },
    {
      "cell_type": "markdown",
      "source": [
        "first LSTM captures the patterns across timestamps and the second one, compresses that into a single thought vector about the sequence."
      ],
      "metadata": {
        "id": "2M7nFXDuJD-F"
      }
    },
    {
      "cell_type": "markdown",
      "source": [
        "dropout randomly 'forgets' 20% of the neurons during training.\n",
        "\n",
        "\n",
        "why? to stop the model from memorizing your dataset(overfitting)\n",
        "\n",
        "\n",
        "like forcing someone to recalling without much content so that they understand the pattern."
      ],
      "metadata": {
        "id": "heOflxGYJF70"
      }
    },
    {
      "cell_type": "markdown",
      "source": [
        "now, in the next layer we have relu activation function, a fully connected layer with 128 neurons. relu makes it non linear but for more complex mappings.  \n",
        "\n",
        "like the brainstorming layers that reshapes the compressed thought from the LSTM into something useful for classification.\n",
        "\n",
        "then in the final layer we have one neuron per word.\n",
        "\n",
        "softmax turns logits into probabilities that sum to 1\n",
        "\n",
        "highest probability -> boom next word"
      ],
      "metadata": {
        "id": "LLIkLYURJIkf"
      }
    },
    {
      "cell_type": "code",
      "source": [
        "model.build(input_shape=(None, 10))   # None = batch size, 3 = sequence length"
      ],
      "metadata": {
        "id": "6MQk1gDBI0cH"
      },
      "execution_count": 23,
      "outputs": []
    },
    {
      "cell_type": "code",
      "source": [
        "model.summary()"
      ],
      "metadata": {
        "colab": {
          "base_uri": "https://localhost:8080/",
          "height": 289
        },
        "id": "N73Q_2wBI6dv",
        "outputId": "39565a29-7ae2-45c7-bb1d-dbd661792615"
      },
      "execution_count": 24,
      "outputs": [
        {
          "output_type": "display_data",
          "data": {
            "text/plain": [
              "\u001b[1mModel: \"sequential\"\u001b[0m\n"
            ],
            "text/html": [
              "<pre style=\"white-space:pre;overflow-x:auto;line-height:normal;font-family:Menlo,'DejaVu Sans Mono',consolas,'Courier New',monospace\"><span style=\"font-weight: bold\">Model: \"sequential\"</span>\n",
              "</pre>\n"
            ]
          },
          "metadata": {}
        },
        {
          "output_type": "display_data",
          "data": {
            "text/plain": [
              "┏━━━━━━━━━━━━━━━━━━━━━━━━━━━━━━━━━┳━━━━━━━━━━━━━━━━━━━━━━━━┳━━━━━━━━━━━━━━━┓\n",
              "┃\u001b[1m \u001b[0m\u001b[1mLayer (type)                   \u001b[0m\u001b[1m \u001b[0m┃\u001b[1m \u001b[0m\u001b[1mOutput Shape          \u001b[0m\u001b[1m \u001b[0m┃\u001b[1m \u001b[0m\u001b[1m      Param #\u001b[0m\u001b[1m \u001b[0m┃\n",
              "┡━━━━━━━━━━━━━━━━━━━━━━━━━━━━━━━━━╇━━━━━━━━━━━━━━━━━━━━━━━━╇━━━━━━━━━━━━━━━┩\n",
              "│ embedding (\u001b[38;5;33mEmbedding\u001b[0m)           │ (\u001b[38;5;45mNone\u001b[0m, \u001b[38;5;34m10\u001b[0m, \u001b[38;5;34m50\u001b[0m)         │       \u001b[38;5;34m410,000\u001b[0m │\n",
              "├─────────────────────────────────┼────────────────────────┼───────────────┤\n",
              "│ lstm (\u001b[38;5;33mLSTM\u001b[0m)                     │ (\u001b[38;5;45mNone\u001b[0m, \u001b[38;5;34m10\u001b[0m, \u001b[38;5;34m128\u001b[0m)        │        \u001b[38;5;34m91,648\u001b[0m │\n",
              "├─────────────────────────────────┼────────────────────────┼───────────────┤\n",
              "│ lstm_1 (\u001b[38;5;33mLSTM\u001b[0m)                   │ (\u001b[38;5;45mNone\u001b[0m, \u001b[38;5;34m128\u001b[0m)            │       \u001b[38;5;34m131,584\u001b[0m │\n",
              "├─────────────────────────────────┼────────────────────────┼───────────────┤\n",
              "│ dense (\u001b[38;5;33mDense\u001b[0m)                   │ (\u001b[38;5;45mNone\u001b[0m, \u001b[38;5;34m128\u001b[0m)            │        \u001b[38;5;34m16,512\u001b[0m │\n",
              "├─────────────────────────────────┼────────────────────────┼───────────────┤\n",
              "│ dense_1 (\u001b[38;5;33mDense\u001b[0m)                 │ (\u001b[38;5;45mNone\u001b[0m, \u001b[38;5;34m8200\u001b[0m)           │     \u001b[38;5;34m1,057,800\u001b[0m │\n",
              "└─────────────────────────────────┴────────────────────────┴───────────────┘\n"
            ],
            "text/html": [
              "<pre style=\"white-space:pre;overflow-x:auto;line-height:normal;font-family:Menlo,'DejaVu Sans Mono',consolas,'Courier New',monospace\">┏━━━━━━━━━━━━━━━━━━━━━━━━━━━━━━━━━┳━━━━━━━━━━━━━━━━━━━━━━━━┳━━━━━━━━━━━━━━━┓\n",
              "┃<span style=\"font-weight: bold\"> Layer (type)                    </span>┃<span style=\"font-weight: bold\"> Output Shape           </span>┃<span style=\"font-weight: bold\">       Param # </span>┃\n",
              "┡━━━━━━━━━━━━━━━━━━━━━━━━━━━━━━━━━╇━━━━━━━━━━━━━━━━━━━━━━━━╇━━━━━━━━━━━━━━━┩\n",
              "│ embedding (<span style=\"color: #0087ff; text-decoration-color: #0087ff\">Embedding</span>)           │ (<span style=\"color: #00d7ff; text-decoration-color: #00d7ff\">None</span>, <span style=\"color: #00af00; text-decoration-color: #00af00\">10</span>, <span style=\"color: #00af00; text-decoration-color: #00af00\">50</span>)         │       <span style=\"color: #00af00; text-decoration-color: #00af00\">410,000</span> │\n",
              "├─────────────────────────────────┼────────────────────────┼───────────────┤\n",
              "│ lstm (<span style=\"color: #0087ff; text-decoration-color: #0087ff\">LSTM</span>)                     │ (<span style=\"color: #00d7ff; text-decoration-color: #00d7ff\">None</span>, <span style=\"color: #00af00; text-decoration-color: #00af00\">10</span>, <span style=\"color: #00af00; text-decoration-color: #00af00\">128</span>)        │        <span style=\"color: #00af00; text-decoration-color: #00af00\">91,648</span> │\n",
              "├─────────────────────────────────┼────────────────────────┼───────────────┤\n",
              "│ lstm_1 (<span style=\"color: #0087ff; text-decoration-color: #0087ff\">LSTM</span>)                   │ (<span style=\"color: #00d7ff; text-decoration-color: #00d7ff\">None</span>, <span style=\"color: #00af00; text-decoration-color: #00af00\">128</span>)            │       <span style=\"color: #00af00; text-decoration-color: #00af00\">131,584</span> │\n",
              "├─────────────────────────────────┼────────────────────────┼───────────────┤\n",
              "│ dense (<span style=\"color: #0087ff; text-decoration-color: #0087ff\">Dense</span>)                   │ (<span style=\"color: #00d7ff; text-decoration-color: #00d7ff\">None</span>, <span style=\"color: #00af00; text-decoration-color: #00af00\">128</span>)            │        <span style=\"color: #00af00; text-decoration-color: #00af00\">16,512</span> │\n",
              "├─────────────────────────────────┼────────────────────────┼───────────────┤\n",
              "│ dense_1 (<span style=\"color: #0087ff; text-decoration-color: #0087ff\">Dense</span>)                 │ (<span style=\"color: #00d7ff; text-decoration-color: #00d7ff\">None</span>, <span style=\"color: #00af00; text-decoration-color: #00af00\">8200</span>)           │     <span style=\"color: #00af00; text-decoration-color: #00af00\">1,057,800</span> │\n",
              "└─────────────────────────────────┴────────────────────────┴───────────────┘\n",
              "</pre>\n"
            ]
          },
          "metadata": {}
        },
        {
          "output_type": "display_data",
          "data": {
            "text/plain": [
              "\u001b[1m Total params: \u001b[0m\u001b[38;5;34m1,707,544\u001b[0m (6.51 MB)\n"
            ],
            "text/html": [
              "<pre style=\"white-space:pre;overflow-x:auto;line-height:normal;font-family:Menlo,'DejaVu Sans Mono',consolas,'Courier New',monospace\"><span style=\"font-weight: bold\"> Total params: </span><span style=\"color: #00af00; text-decoration-color: #00af00\">1,707,544</span> (6.51 MB)\n",
              "</pre>\n"
            ]
          },
          "metadata": {}
        },
        {
          "output_type": "display_data",
          "data": {
            "text/plain": [
              "\u001b[1m Trainable params: \u001b[0m\u001b[38;5;34m1,707,544\u001b[0m (6.51 MB)\n"
            ],
            "text/html": [
              "<pre style=\"white-space:pre;overflow-x:auto;line-height:normal;font-family:Menlo,'DejaVu Sans Mono',consolas,'Courier New',monospace\"><span style=\"font-weight: bold\"> Trainable params: </span><span style=\"color: #00af00; text-decoration-color: #00af00\">1,707,544</span> (6.51 MB)\n",
              "</pre>\n"
            ]
          },
          "metadata": {}
        },
        {
          "output_type": "display_data",
          "data": {
            "text/plain": [
              "\u001b[1m Non-trainable params: \u001b[0m\u001b[38;5;34m0\u001b[0m (0.00 B)\n"
            ],
            "text/html": [
              "<pre style=\"white-space:pre;overflow-x:auto;line-height:normal;font-family:Menlo,'DejaVu Sans Mono',consolas,'Courier New',monospace\"><span style=\"font-weight: bold\"> Non-trainable params: </span><span style=\"color: #00af00; text-decoration-color: #00af00\">0</span> (0.00 B)\n",
              "</pre>\n"
            ]
          },
          "metadata": {}
        }
      ]
    },
    {
      "cell_type": "code",
      "source": [
        "# from tensorflow.keras.callbacks import ModelCheckpoint\n",
        "# checkpoint = ModelCheckpoint(\"next_words.h5\", monitor=\"loss\", verbose=1, save_best_only=True)\n"
      ],
      "metadata": {
        "id": "CgMDGcIBJLwR"
      },
      "execution_count": 25,
      "outputs": []
    },
    {
      "cell_type": "code",
      "source": [
        "from tensorflow.keras.optimizers import RMSprop\n"
      ],
      "metadata": {
        "id": "xWFiDNVzAguo"
      },
      "execution_count": 26,
      "outputs": []
    },
    {
      "cell_type": "code",
      "source": [
        "model.compile(loss='categorical_crossentropy', optimizer = 'adam', metrics=['accuracy'])"
      ],
      "metadata": {
        "id": "Yn6rTFubJM_L"
      },
      "execution_count": 27,
      "outputs": []
    },
    {
      "cell_type": "code",
      "source": [
        "# from tensorflow.keras.callbacks import EarlyStopping\n",
        "\n",
        "# early_stop = EarlyStopping(\n",
        "#     monitor='val_loss',\n",
        "#     patience = 3,\n",
        "#     restore_best_weights=True\n",
        "# )"
      ],
      "metadata": {
        "id": "F2hM6pGYJlti"
      },
      "execution_count": 28,
      "outputs": []
    },
    {
      "cell_type": "code",
      "source": [
        "model.fit(x, y, epochs=100, validation_split=0.2)"
      ],
      "metadata": {
        "id": "HkGlxpdkJOiT",
        "colab": {
          "base_uri": "https://localhost:8080/"
        },
        "outputId": "b02df72e-15b3-490d-e6f2-849638922e77"
      },
      "execution_count": 29,
      "outputs": [
        {
          "output_type": "stream",
          "name": "stdout",
          "text": [
            "Epoch 1/100\n",
            "\u001b[1m2647/2647\u001b[0m \u001b[32m━━━━━━━━━━━━━━━━━━━━\u001b[0m\u001b[37m\u001b[0m \u001b[1m35s\u001b[0m 11ms/step - accuracy: 0.0530 - loss: 6.8230 - val_accuracy: 0.0585 - val_loss: 6.3535\n",
            "Epoch 2/100\n",
            "\u001b[1m2647/2647\u001b[0m \u001b[32m━━━━━━━━━━━━━━━━━━━━\u001b[0m\u001b[37m\u001b[0m \u001b[1m27s\u001b[0m 10ms/step - accuracy: 0.0718 - loss: 6.1070 - val_accuracy: 0.0892 - val_loss: 6.1380\n",
            "Epoch 3/100\n",
            "\u001b[1m2647/2647\u001b[0m \u001b[32m━━━━━━━━━━━━━━━━━━━━\u001b[0m\u001b[37m\u001b[0m \u001b[1m28s\u001b[0m 10ms/step - accuracy: 0.0971 - loss: 5.7099 - val_accuracy: 0.1049 - val_loss: 6.0828\n",
            "Epoch 4/100\n",
            "\u001b[1m2647/2647\u001b[0m \u001b[32m━━━━━━━━━━━━━━━━━━━━\u001b[0m\u001b[37m\u001b[0m \u001b[1m28s\u001b[0m 10ms/step - accuracy: 0.1136 - loss: 5.4580 - val_accuracy: 0.1092 - val_loss: 6.1036\n",
            "Epoch 5/100\n",
            "\u001b[1m2647/2647\u001b[0m \u001b[32m━━━━━━━━━━━━━━━━━━━━\u001b[0m\u001b[37m\u001b[0m \u001b[1m27s\u001b[0m 10ms/step - accuracy: 0.1240 - loss: 5.2749 - val_accuracy: 0.1167 - val_loss: 6.1721\n",
            "Epoch 6/100\n",
            "\u001b[1m2647/2647\u001b[0m \u001b[32m━━━━━━━━━━━━━━━━━━━━\u001b[0m\u001b[37m\u001b[0m \u001b[1m27s\u001b[0m 10ms/step - accuracy: 0.1327 - loss: 5.1352 - val_accuracy: 0.1201 - val_loss: 6.2774\n",
            "Epoch 7/100\n",
            "\u001b[1m2647/2647\u001b[0m \u001b[32m━━━━━━━━━━━━━━━━━━━━\u001b[0m\u001b[37m\u001b[0m \u001b[1m41s\u001b[0m 10ms/step - accuracy: 0.1397 - loss: 4.9984 - val_accuracy: 0.1196 - val_loss: 6.3854\n",
            "Epoch 8/100\n",
            "\u001b[1m2647/2647\u001b[0m \u001b[32m━━━━━━━━━━━━━━━━━━━━\u001b[0m\u001b[37m\u001b[0m \u001b[1m27s\u001b[0m 10ms/step - accuracy: 0.1470 - loss: 4.8845 - val_accuracy: 0.1211 - val_loss: 6.5404\n",
            "Epoch 9/100\n",
            "\u001b[1m2647/2647\u001b[0m \u001b[32m━━━━━━━━━━━━━━━━━━━━\u001b[0m\u001b[37m\u001b[0m \u001b[1m26s\u001b[0m 10ms/step - accuracy: 0.1492 - loss: 4.8066 - val_accuracy: 0.1221 - val_loss: 6.6188\n",
            "Epoch 10/100\n",
            "\u001b[1m2647/2647\u001b[0m \u001b[32m━━━━━━━━━━━━━━━━━━━━\u001b[0m\u001b[37m\u001b[0m \u001b[1m26s\u001b[0m 10ms/step - accuracy: 0.1587 - loss: 4.7073 - val_accuracy: 0.1227 - val_loss: 6.7360\n",
            "Epoch 11/100\n",
            "\u001b[1m2647/2647\u001b[0m \u001b[32m━━━━━━━━━━━━━━━━━━━━\u001b[0m\u001b[37m\u001b[0m \u001b[1m26s\u001b[0m 10ms/step - accuracy: 0.1559 - loss: 4.6289 - val_accuracy: 0.1248 - val_loss: 6.9235\n",
            "Epoch 12/100\n",
            "\u001b[1m2647/2647\u001b[0m \u001b[32m━━━━━━━━━━━━━━━━━━━━\u001b[0m\u001b[37m\u001b[0m \u001b[1m26s\u001b[0m 10ms/step - accuracy: 0.1617 - loss: 4.5662 - val_accuracy: 0.1228 - val_loss: 7.0267\n",
            "Epoch 13/100\n",
            "\u001b[1m2647/2647\u001b[0m \u001b[32m━━━━━━━━━━━━━━━━━━━━\u001b[0m\u001b[37m\u001b[0m \u001b[1m26s\u001b[0m 10ms/step - accuracy: 0.1669 - loss: 4.4876 - val_accuracy: 0.1260 - val_loss: 7.1337\n",
            "Epoch 14/100\n",
            "\u001b[1m2647/2647\u001b[0m \u001b[32m━━━━━━━━━━━━━━━━━━━━\u001b[0m\u001b[37m\u001b[0m \u001b[1m27s\u001b[0m 10ms/step - accuracy: 0.1673 - loss: 4.4432 - val_accuracy: 0.1240 - val_loss: 7.3506\n",
            "Epoch 15/100\n",
            "\u001b[1m2647/2647\u001b[0m \u001b[32m━━━━━━━━━━━━━━━━━━━━\u001b[0m\u001b[37m\u001b[0m \u001b[1m27s\u001b[0m 10ms/step - accuracy: 0.1694 - loss: 4.3951 - val_accuracy: 0.1248 - val_loss: 7.4968\n",
            "Epoch 16/100\n",
            "\u001b[1m2647/2647\u001b[0m \u001b[32m━━━━━━━━━━━━━━━━━━━━\u001b[0m\u001b[37m\u001b[0m \u001b[1m27s\u001b[0m 10ms/step - accuracy: 0.1744 - loss: 4.3380 - val_accuracy: 0.1236 - val_loss: 7.5891\n",
            "Epoch 17/100\n",
            "\u001b[1m2647/2647\u001b[0m \u001b[32m━━━━━━━━━━━━━━━━━━━━\u001b[0m\u001b[37m\u001b[0m \u001b[1m26s\u001b[0m 10ms/step - accuracy: 0.1769 - loss: 4.2854 - val_accuracy: 0.1263 - val_loss: 7.7130\n",
            "Epoch 18/100\n",
            "\u001b[1m2647/2647\u001b[0m \u001b[32m━━━━━━━━━━━━━━━━━━━━\u001b[0m\u001b[37m\u001b[0m \u001b[1m27s\u001b[0m 10ms/step - accuracy: 0.1795 - loss: 4.2512 - val_accuracy: 0.1267 - val_loss: 7.8642\n",
            "Epoch 19/100\n",
            "\u001b[1m2647/2647\u001b[0m \u001b[32m━━━━━━━━━━━━━━━━━━━━\u001b[0m\u001b[37m\u001b[0m \u001b[1m27s\u001b[0m 10ms/step - accuracy: 0.1856 - loss: 4.1940 - val_accuracy: 0.1231 - val_loss: 7.9439\n",
            "Epoch 20/100\n",
            "\u001b[1m2647/2647\u001b[0m \u001b[32m━━━━━━━━━━━━━━━━━━━━\u001b[0m\u001b[37m\u001b[0m \u001b[1m26s\u001b[0m 10ms/step - accuracy: 0.1895 - loss: 4.1642 - val_accuracy: 0.1234 - val_loss: 8.1230\n",
            "Epoch 21/100\n",
            "\u001b[1m2647/2647\u001b[0m \u001b[32m━━━━━━━━━━━━━━━━━━━━\u001b[0m\u001b[37m\u001b[0m \u001b[1m26s\u001b[0m 10ms/step - accuracy: 0.1895 - loss: 4.1410 - val_accuracy: 0.1237 - val_loss: 8.1393\n",
            "Epoch 22/100\n",
            "\u001b[1m2647/2647\u001b[0m \u001b[32m━━━━━━━━━━━━━━━━━━━━\u001b[0m\u001b[37m\u001b[0m \u001b[1m41s\u001b[0m 10ms/step - accuracy: 0.1905 - loss: 4.1035 - val_accuracy: 0.1229 - val_loss: 8.2901\n",
            "Epoch 23/100\n",
            "\u001b[1m2647/2647\u001b[0m \u001b[32m━━━━━━━━━━━━━━━━━━━━\u001b[0m\u001b[37m\u001b[0m \u001b[1m27s\u001b[0m 10ms/step - accuracy: 0.1919 - loss: 4.0742 - val_accuracy: 0.1233 - val_loss: 8.4851\n",
            "Epoch 24/100\n",
            "\u001b[1m2647/2647\u001b[0m \u001b[32m━━━━━━━━━━━━━━━━━━━━\u001b[0m\u001b[37m\u001b[0m \u001b[1m27s\u001b[0m 10ms/step - accuracy: 0.1958 - loss: 4.0520 - val_accuracy: 0.1244 - val_loss: 8.6978\n",
            "Epoch 25/100\n",
            "\u001b[1m2647/2647\u001b[0m \u001b[32m━━━━━━━━━━━━━━━━━━━━\u001b[0m\u001b[37m\u001b[0m \u001b[1m26s\u001b[0m 10ms/step - accuracy: 0.1989 - loss: 4.0113 - val_accuracy: 0.1235 - val_loss: 8.6845\n",
            "Epoch 26/100\n",
            "\u001b[1m2647/2647\u001b[0m \u001b[32m━━━━━━━━━━━━━━━━━━━━\u001b[0m\u001b[37m\u001b[0m \u001b[1m27s\u001b[0m 10ms/step - accuracy: 0.2001 - loss: 4.0022 - val_accuracy: 0.1223 - val_loss: 8.6438\n",
            "Epoch 27/100\n",
            "\u001b[1m2647/2647\u001b[0m \u001b[32m━━━━━━━━━━━━━━━━━━━━\u001b[0m\u001b[37m\u001b[0m \u001b[1m27s\u001b[0m 10ms/step - accuracy: 0.2040 - loss: 3.9687 - val_accuracy: 0.1217 - val_loss: 8.8577\n",
            "Epoch 28/100\n",
            "\u001b[1m2647/2647\u001b[0m \u001b[32m━━━━━━━━━━━━━━━━━━━━\u001b[0m\u001b[37m\u001b[0m \u001b[1m26s\u001b[0m 10ms/step - accuracy: 0.2014 - loss: 3.9571 - val_accuracy: 0.1217 - val_loss: 8.9605\n",
            "Epoch 29/100\n",
            "\u001b[1m2647/2647\u001b[0m \u001b[32m━━━━━━━━━━━━━━━━━━━━\u001b[0m\u001b[37m\u001b[0m \u001b[1m28s\u001b[0m 11ms/step - accuracy: 0.2075 - loss: 3.9113 - val_accuracy: 0.1217 - val_loss: 8.9293\n",
            "Epoch 30/100\n",
            "\u001b[1m2647/2647\u001b[0m \u001b[32m━━━━━━━━━━━━━━━━━━━━\u001b[0m\u001b[37m\u001b[0m \u001b[1m27s\u001b[0m 10ms/step - accuracy: 0.2086 - loss: 3.9204 - val_accuracy: 0.1209 - val_loss: 9.0017\n",
            "Epoch 31/100\n",
            "\u001b[1m2647/2647\u001b[0m \u001b[32m━━━━━━━━━━━━━━━━━━━━\u001b[0m\u001b[37m\u001b[0m \u001b[1m26s\u001b[0m 10ms/step - accuracy: 0.2130 - loss: 3.8880 - val_accuracy: 0.1182 - val_loss: 9.1446\n",
            "Epoch 32/100\n",
            "\u001b[1m2647/2647\u001b[0m \u001b[32m━━━━━━━━━━━━━━━━━━━━\u001b[0m\u001b[37m\u001b[0m \u001b[1m26s\u001b[0m 10ms/step - accuracy: 0.2107 - loss: 3.8718 - val_accuracy: 0.1192 - val_loss: 9.2091\n",
            "Epoch 33/100\n",
            "\u001b[1m2647/2647\u001b[0m \u001b[32m━━━━━━━━━━━━━━━━━━━━\u001b[0m\u001b[37m\u001b[0m \u001b[1m27s\u001b[0m 10ms/step - accuracy: 0.2155 - loss: 3.8655 - val_accuracy: 0.1204 - val_loss: 9.2129\n",
            "Epoch 34/100\n",
            "\u001b[1m2647/2647\u001b[0m \u001b[32m━━━━━━━━━━━━━━━━━━━━\u001b[0m\u001b[37m\u001b[0m \u001b[1m27s\u001b[0m 10ms/step - accuracy: 0.2143 - loss: 3.8395 - val_accuracy: 0.1200 - val_loss: 9.3344\n",
            "Epoch 35/100\n",
            "\u001b[1m2647/2647\u001b[0m \u001b[32m━━━━━━━━━━━━━━━━━━━━\u001b[0m\u001b[37m\u001b[0m \u001b[1m27s\u001b[0m 10ms/step - accuracy: 0.2178 - loss: 3.8214 - val_accuracy: 0.1190 - val_loss: 9.3385\n",
            "Epoch 36/100\n",
            "\u001b[1m2647/2647\u001b[0m \u001b[32m━━━━━━━━━━━━━━━━━━━━\u001b[0m\u001b[37m\u001b[0m \u001b[1m26s\u001b[0m 10ms/step - accuracy: 0.2221 - loss: 3.8053 - val_accuracy: 0.1187 - val_loss: 9.4310\n",
            "Epoch 37/100\n",
            "\u001b[1m2647/2647\u001b[0m \u001b[32m━━━━━━━━━━━━━━━━━━━━\u001b[0m\u001b[37m\u001b[0m \u001b[1m27s\u001b[0m 10ms/step - accuracy: 0.2249 - loss: 3.7869 - val_accuracy: 0.1189 - val_loss: 9.5077\n",
            "Epoch 38/100\n",
            "\u001b[1m2647/2647\u001b[0m \u001b[32m━━━━━━━━━━━━━━━━━━━━\u001b[0m\u001b[37m\u001b[0m \u001b[1m27s\u001b[0m 10ms/step - accuracy: 0.2261 - loss: 3.7607 - val_accuracy: 0.1166 - val_loss: 9.5360\n",
            "Epoch 39/100\n",
            "\u001b[1m2647/2647\u001b[0m \u001b[32m━━━━━━━━━━━━━━━━━━━━\u001b[0m\u001b[37m\u001b[0m \u001b[1m27s\u001b[0m 10ms/step - accuracy: 0.2279 - loss: 3.7482 - val_accuracy: 0.1172 - val_loss: 9.7486\n",
            "Epoch 40/100\n",
            "\u001b[1m2647/2647\u001b[0m \u001b[32m━━━━━━━━━━━━━━━━━━━━\u001b[0m\u001b[37m\u001b[0m \u001b[1m27s\u001b[0m 10ms/step - accuracy: 0.2278 - loss: 3.7408 - val_accuracy: 0.1184 - val_loss: 9.5528\n",
            "Epoch 41/100\n",
            "\u001b[1m2647/2647\u001b[0m \u001b[32m━━━━━━━━━━━━━━━━━━━━\u001b[0m\u001b[37m\u001b[0m \u001b[1m27s\u001b[0m 10ms/step - accuracy: 0.2274 - loss: 3.7458 - val_accuracy: 0.1165 - val_loss: 9.6291\n",
            "Epoch 42/100\n",
            "\u001b[1m2647/2647\u001b[0m \u001b[32m━━━━━━━━━━━━━━━━━━━━\u001b[0m\u001b[37m\u001b[0m \u001b[1m27s\u001b[0m 10ms/step - accuracy: 0.2289 - loss: 3.7315 - val_accuracy: 0.1176 - val_loss: 9.7401\n",
            "Epoch 43/100\n",
            "\u001b[1m2647/2647\u001b[0m \u001b[32m━━━━━━━━━━━━━━━━━━━━\u001b[0m\u001b[37m\u001b[0m \u001b[1m27s\u001b[0m 10ms/step - accuracy: 0.2319 - loss: 3.7191 - val_accuracy: 0.1157 - val_loss: 9.8627\n",
            "Epoch 44/100\n",
            "\u001b[1m2647/2647\u001b[0m \u001b[32m━━━━━━━━━━━━━━━━━━━━\u001b[0m\u001b[37m\u001b[0m \u001b[1m28s\u001b[0m 10ms/step - accuracy: 0.2352 - loss: 3.6965 - val_accuracy: 0.1149 - val_loss: 9.8771\n",
            "Epoch 45/100\n",
            "\u001b[1m2647/2647\u001b[0m \u001b[32m━━━━━━━━━━━━━━━━━━━━\u001b[0m\u001b[37m\u001b[0m \u001b[1m27s\u001b[0m 10ms/step - accuracy: 0.2349 - loss: 3.6967 - val_accuracy: 0.1174 - val_loss: 9.8969\n",
            "Epoch 46/100\n",
            "\u001b[1m2647/2647\u001b[0m \u001b[32m━━━━━━━━━━━━━━━━━━━━\u001b[0m\u001b[37m\u001b[0m \u001b[1m29s\u001b[0m 11ms/step - accuracy: 0.2335 - loss: 3.6842 - val_accuracy: 0.1148 - val_loss: 9.9639\n",
            "Epoch 47/100\n",
            "\u001b[1m2647/2647\u001b[0m \u001b[32m━━━━━━━━━━━━━━━━━━━━\u001b[0m\u001b[37m\u001b[0m \u001b[1m28s\u001b[0m 11ms/step - accuracy: 0.2396 - loss: 3.6716 - val_accuracy: 0.1150 - val_loss: 9.9105\n",
            "Epoch 48/100\n",
            "\u001b[1m2647/2647\u001b[0m \u001b[32m━━━━━━━━━━━━━━━━━━━━\u001b[0m\u001b[37m\u001b[0m \u001b[1m27s\u001b[0m 10ms/step - accuracy: 0.2386 - loss: 3.6504 - val_accuracy: 0.1173 - val_loss: 9.9615\n",
            "Epoch 49/100\n",
            "\u001b[1m2647/2647\u001b[0m \u001b[32m━━━━━━━━━━━━━━━━━━━━\u001b[0m\u001b[37m\u001b[0m \u001b[1m26s\u001b[0m 10ms/step - accuracy: 0.2380 - loss: 3.6550 - val_accuracy: 0.1146 - val_loss: 10.1055\n",
            "Epoch 50/100\n",
            "\u001b[1m2647/2647\u001b[0m \u001b[32m━━━━━━━━━━━━━━━━━━━━\u001b[0m\u001b[37m\u001b[0m \u001b[1m41s\u001b[0m 10ms/step - accuracy: 0.2412 - loss: 3.6400 - val_accuracy: 0.1123 - val_loss: 10.0299\n",
            "Epoch 51/100\n",
            "\u001b[1m2647/2647\u001b[0m \u001b[32m━━━━━━━━━━━━━━━━━━━━\u001b[0m\u001b[37m\u001b[0m \u001b[1m27s\u001b[0m 10ms/step - accuracy: 0.2409 - loss: 3.6357 - val_accuracy: 0.1131 - val_loss: 10.0693\n",
            "Epoch 52/100\n",
            "\u001b[1m2647/2647\u001b[0m \u001b[32m━━━━━━━━━━━━━━━━━━━━\u001b[0m\u001b[37m\u001b[0m \u001b[1m27s\u001b[0m 10ms/step - accuracy: 0.2399 - loss: 3.6449 - val_accuracy: 0.1145 - val_loss: 10.1946\n",
            "Epoch 53/100\n",
            "\u001b[1m2647/2647\u001b[0m \u001b[32m━━━━━━━━━━━━━━━━━━━━\u001b[0m\u001b[37m\u001b[0m \u001b[1m41s\u001b[0m 10ms/step - accuracy: 0.2425 - loss: 3.6284 - val_accuracy: 0.1139 - val_loss: 10.1244\n",
            "Epoch 54/100\n",
            "\u001b[1m2647/2647\u001b[0m \u001b[32m━━━━━━━━━━━━━━━━━━━━\u001b[0m\u001b[37m\u001b[0m \u001b[1m27s\u001b[0m 10ms/step - accuracy: 0.2423 - loss: 3.6149 - val_accuracy: 0.1165 - val_loss: 10.2108\n",
            "Epoch 55/100\n",
            "\u001b[1m2647/2647\u001b[0m \u001b[32m━━━━━━━━━━━━━━━━━━━━\u001b[0m\u001b[37m\u001b[0m \u001b[1m27s\u001b[0m 10ms/step - accuracy: 0.2485 - loss: 3.5939 - val_accuracy: 0.1149 - val_loss: 10.2544\n",
            "Epoch 56/100\n",
            "\u001b[1m2647/2647\u001b[0m \u001b[32m━━━━━━━━━━━━━━━━━━━━\u001b[0m\u001b[37m\u001b[0m \u001b[1m26s\u001b[0m 10ms/step - accuracy: 0.2486 - loss: 3.5920 - val_accuracy: 0.1157 - val_loss: 10.2631\n",
            "Epoch 57/100\n",
            "\u001b[1m2647/2647\u001b[0m \u001b[32m━━━━━━━━━━━━━━━━━━━━\u001b[0m\u001b[37m\u001b[0m \u001b[1m26s\u001b[0m 10ms/step - accuracy: 0.2500 - loss: 3.5884 - val_accuracy: 0.1155 - val_loss: 10.2347\n",
            "Epoch 58/100\n",
            "\u001b[1m2647/2647\u001b[0m \u001b[32m━━━━━━━━━━━━━━━━━━━━\u001b[0m\u001b[37m\u001b[0m \u001b[1m26s\u001b[0m 10ms/step - accuracy: 0.2472 - loss: 3.5881 - val_accuracy: 0.1144 - val_loss: 10.2538\n",
            "Epoch 59/100\n",
            "\u001b[1m2647/2647\u001b[0m \u001b[32m━━━━━━━━━━━━━━━━━━━━\u001b[0m\u001b[37m\u001b[0m \u001b[1m26s\u001b[0m 10ms/step - accuracy: 0.2474 - loss: 3.5843 - val_accuracy: 0.1112 - val_loss: 10.2829\n",
            "Epoch 60/100\n",
            "\u001b[1m2647/2647\u001b[0m \u001b[32m━━━━━━━━━━━━━━━━━━━━\u001b[0m\u001b[37m\u001b[0m \u001b[1m27s\u001b[0m 10ms/step - accuracy: 0.2506 - loss: 3.5676 - val_accuracy: 0.1129 - val_loss: 10.2952\n",
            "Epoch 61/100\n",
            "\u001b[1m2647/2647\u001b[0m \u001b[32m━━━━━━━━━━━━━━━━━━━━\u001b[0m\u001b[37m\u001b[0m \u001b[1m27s\u001b[0m 10ms/step - accuracy: 0.2510 - loss: 3.5578 - val_accuracy: 0.1113 - val_loss: 10.3507\n",
            "Epoch 62/100\n",
            "\u001b[1m2647/2647\u001b[0m \u001b[32m━━━━━━━━━━━━━━━━━━━━\u001b[0m\u001b[37m\u001b[0m \u001b[1m27s\u001b[0m 10ms/step - accuracy: 0.2545 - loss: 3.5461 - val_accuracy: 0.1113 - val_loss: 10.4369\n",
            "Epoch 63/100\n",
            "\u001b[1m2647/2647\u001b[0m \u001b[32m━━━━━━━━━━━━━━━━━━━━\u001b[0m\u001b[37m\u001b[0m \u001b[1m27s\u001b[0m 10ms/step - accuracy: 0.2526 - loss: 3.5488 - val_accuracy: 0.1111 - val_loss: 10.3705\n",
            "Epoch 64/100\n",
            "\u001b[1m2647/2647\u001b[0m \u001b[32m━━━━━━━━━━━━━━━━━━━━\u001b[0m\u001b[37m\u001b[0m \u001b[1m26s\u001b[0m 10ms/step - accuracy: 0.2530 - loss: 3.5365 - val_accuracy: 0.1102 - val_loss: 10.4720\n",
            "Epoch 65/100\n",
            "\u001b[1m2647/2647\u001b[0m \u001b[32m━━━━━━━━━━━━━━━━━━━━\u001b[0m\u001b[37m\u001b[0m \u001b[1m27s\u001b[0m 10ms/step - accuracy: 0.2589 - loss: 3.5229 - val_accuracy: 0.1133 - val_loss: 10.4583\n",
            "Epoch 66/100\n",
            "\u001b[1m2647/2647\u001b[0m \u001b[32m━━━━━━━━━━━━━━━━━━━━\u001b[0m\u001b[37m\u001b[0m \u001b[1m27s\u001b[0m 10ms/step - accuracy: 0.2528 - loss: 3.5332 - val_accuracy: 0.1114 - val_loss: 10.2990\n",
            "Epoch 67/100\n",
            "\u001b[1m2647/2647\u001b[0m \u001b[32m━━━━━━━━━━━━━━━━━━━━\u001b[0m\u001b[37m\u001b[0m \u001b[1m27s\u001b[0m 10ms/step - accuracy: 0.2556 - loss: 3.5303 - val_accuracy: 0.1111 - val_loss: 10.4245\n",
            "Epoch 68/100\n",
            "\u001b[1m2647/2647\u001b[0m \u001b[32m━━━━━━━━━━━━━━━━━━━━\u001b[0m\u001b[37m\u001b[0m \u001b[1m26s\u001b[0m 10ms/step - accuracy: 0.2572 - loss: 3.5263 - val_accuracy: 0.1115 - val_loss: 10.5454\n",
            "Epoch 69/100\n",
            "\u001b[1m2647/2647\u001b[0m \u001b[32m━━━━━━━━━━━━━━━━━━━━\u001b[0m\u001b[37m\u001b[0m \u001b[1m26s\u001b[0m 10ms/step - accuracy: 0.2585 - loss: 3.5130 - val_accuracy: 0.1110 - val_loss: 10.4781\n",
            "Epoch 70/100\n",
            "\u001b[1m2647/2647\u001b[0m \u001b[32m━━━━━━━━━━━━━━━━━━━━\u001b[0m\u001b[37m\u001b[0m \u001b[1m26s\u001b[0m 10ms/step - accuracy: 0.2599 - loss: 3.4985 - val_accuracy: 0.1085 - val_loss: 10.3797\n",
            "Epoch 71/100\n",
            "\u001b[1m2647/2647\u001b[0m \u001b[32m━━━━━━━━━━━━━━━━━━━━\u001b[0m\u001b[37m\u001b[0m \u001b[1m27s\u001b[0m 10ms/step - accuracy: 0.2596 - loss: 3.5166 - val_accuracy: 0.1113 - val_loss: 10.5468\n",
            "Epoch 72/100\n",
            "\u001b[1m2647/2647\u001b[0m \u001b[32m━━━━━━━━━━━━━━━━━━━━\u001b[0m\u001b[37m\u001b[0m \u001b[1m27s\u001b[0m 10ms/step - accuracy: 0.2619 - loss: 3.4906 - val_accuracy: 0.1101 - val_loss: 10.4972\n",
            "Epoch 73/100\n",
            "\u001b[1m2647/2647\u001b[0m \u001b[32m━━━━━━━━━━━━━━━━━━━━\u001b[0m\u001b[37m\u001b[0m \u001b[1m26s\u001b[0m 10ms/step - accuracy: 0.2625 - loss: 3.4754 - val_accuracy: 0.1109 - val_loss: 10.5292\n",
            "Epoch 74/100\n",
            "\u001b[1m2647/2647\u001b[0m \u001b[32m━━━━━━━━━━━━━━━━━━━━\u001b[0m\u001b[37m\u001b[0m \u001b[1m27s\u001b[0m 10ms/step - accuracy: 0.2597 - loss: 3.4773 - val_accuracy: 0.1133 - val_loss: 10.6467\n",
            "Epoch 75/100\n",
            "\u001b[1m2647/2647\u001b[0m \u001b[32m━━━━━━━━━━━━━━━━━━━━\u001b[0m\u001b[37m\u001b[0m \u001b[1m27s\u001b[0m 10ms/step - accuracy: 0.2636 - loss: 3.4719 - val_accuracy: 0.1110 - val_loss: 10.5014\n",
            "Epoch 76/100\n",
            "\u001b[1m2647/2647\u001b[0m \u001b[32m━━━━━━━━━━━━━━━━━━━━\u001b[0m\u001b[37m\u001b[0m \u001b[1m27s\u001b[0m 10ms/step - accuracy: 0.2628 - loss: 3.4766 - val_accuracy: 0.1116 - val_loss: 10.5310\n",
            "Epoch 77/100\n",
            "\u001b[1m2647/2647\u001b[0m \u001b[32m━━━━━━━━━━━━━━━━━━━━\u001b[0m\u001b[37m\u001b[0m \u001b[1m27s\u001b[0m 10ms/step - accuracy: 0.2642 - loss: 3.4746 - val_accuracy: 0.1097 - val_loss: 10.6139\n",
            "Epoch 78/100\n",
            "\u001b[1m2647/2647\u001b[0m \u001b[32m━━━━━━━━━━━━━━━━━━━━\u001b[0m\u001b[37m\u001b[0m \u001b[1m27s\u001b[0m 10ms/step - accuracy: 0.2659 - loss: 3.4523 - val_accuracy: 0.1125 - val_loss: 10.6243\n",
            "Epoch 79/100\n",
            "\u001b[1m2647/2647\u001b[0m \u001b[32m━━━━━━━━━━━━━━━━━━━━\u001b[0m\u001b[37m\u001b[0m \u001b[1m43s\u001b[0m 11ms/step - accuracy: 0.2637 - loss: 3.4699 - val_accuracy: 0.1091 - val_loss: 10.7058\n",
            "Epoch 80/100\n",
            "\u001b[1m2647/2647\u001b[0m \u001b[32m━━━━━━━━━━━━━━━━━━━━\u001b[0m\u001b[37m\u001b[0m \u001b[1m27s\u001b[0m 10ms/step - accuracy: 0.2656 - loss: 3.4615 - val_accuracy: 0.1107 - val_loss: 10.6878\n",
            "Epoch 81/100\n",
            "\u001b[1m2647/2647\u001b[0m \u001b[32m━━━━━━━━━━━━━━━━━━━━\u001b[0m\u001b[37m\u001b[0m \u001b[1m27s\u001b[0m 10ms/step - accuracy: 0.2682 - loss: 3.4387 - val_accuracy: 0.1085 - val_loss: 10.6176\n",
            "Epoch 82/100\n",
            "\u001b[1m2647/2647\u001b[0m \u001b[32m━━━━━━━━━━━━━━━━━━━━\u001b[0m\u001b[37m\u001b[0m \u001b[1m41s\u001b[0m 10ms/step - accuracy: 0.2669 - loss: 3.4579 - val_accuracy: 0.1091 - val_loss: 10.8215\n",
            "Epoch 83/100\n",
            "\u001b[1m2647/2647\u001b[0m \u001b[32m━━━━━━━━━━━━━━━━━━━━\u001b[0m\u001b[37m\u001b[0m \u001b[1m28s\u001b[0m 10ms/step - accuracy: 0.2661 - loss: 3.4444 - val_accuracy: 0.1125 - val_loss: 10.8538\n",
            "Epoch 84/100\n",
            "\u001b[1m2647/2647\u001b[0m \u001b[32m━━━━━━━━━━━━━━━━━━━━\u001b[0m\u001b[37m\u001b[0m \u001b[1m27s\u001b[0m 10ms/step - accuracy: 0.2679 - loss: 3.4345 - val_accuracy: 0.1097 - val_loss: 10.6865\n",
            "Epoch 85/100\n",
            "\u001b[1m2647/2647\u001b[0m \u001b[32m━━━━━━━━━━━━━━━━━━━━\u001b[0m\u001b[37m\u001b[0m \u001b[1m27s\u001b[0m 10ms/step - accuracy: 0.2701 - loss: 3.4333 - val_accuracy: 0.1110 - val_loss: 10.6617\n",
            "Epoch 86/100\n",
            "\u001b[1m2647/2647\u001b[0m \u001b[32m━━━━━━━━━━━━━━━━━━━━\u001b[0m\u001b[37m\u001b[0m \u001b[1m40s\u001b[0m 10ms/step - accuracy: 0.2671 - loss: 3.4287 - val_accuracy: 0.1100 - val_loss: 10.7720\n",
            "Epoch 87/100\n",
            "\u001b[1m2647/2647\u001b[0m \u001b[32m━━━━━━━━━━━━━━━━━━━━\u001b[0m\u001b[37m\u001b[0m \u001b[1m27s\u001b[0m 10ms/step - accuracy: 0.2713 - loss: 3.4208 - val_accuracy: 0.1099 - val_loss: 10.8005\n",
            "Epoch 88/100\n",
            "\u001b[1m2647/2647\u001b[0m \u001b[32m━━━━━━━━━━━━━━━━━━━━\u001b[0m\u001b[37m\u001b[0m \u001b[1m27s\u001b[0m 10ms/step - accuracy: 0.2677 - loss: 3.4391 - val_accuracy: 0.1098 - val_loss: 10.7633\n",
            "Epoch 89/100\n",
            "\u001b[1m2647/2647\u001b[0m \u001b[32m━━━━━━━━━━━━━━━━━━━━\u001b[0m\u001b[37m\u001b[0m \u001b[1m26s\u001b[0m 10ms/step - accuracy: 0.2737 - loss: 3.4053 - val_accuracy: 0.1117 - val_loss: 10.8407\n",
            "Epoch 90/100\n",
            "\u001b[1m2647/2647\u001b[0m \u001b[32m━━━━━━━━━━━━━━━━━━━━\u001b[0m\u001b[37m\u001b[0m \u001b[1m26s\u001b[0m 10ms/step - accuracy: 0.2743 - loss: 3.4134 - val_accuracy: 0.1116 - val_loss: 10.8427\n",
            "Epoch 91/100\n",
            "\u001b[1m2647/2647\u001b[0m \u001b[32m━━━━━━━━━━━━━━━━━━━━\u001b[0m\u001b[37m\u001b[0m \u001b[1m27s\u001b[0m 10ms/step - accuracy: 0.2734 - loss: 3.4127 - val_accuracy: 0.1093 - val_loss: 10.8168\n",
            "Epoch 92/100\n",
            "\u001b[1m2647/2647\u001b[0m \u001b[32m━━━━━━━━━━━━━━━━━━━━\u001b[0m\u001b[37m\u001b[0m \u001b[1m27s\u001b[0m 10ms/step - accuracy: 0.2731 - loss: 3.3925 - val_accuracy: 0.1101 - val_loss: 10.7566\n",
            "Epoch 93/100\n",
            "\u001b[1m2647/2647\u001b[0m \u001b[32m━━━━━━━━━━━━━━━━━━━━\u001b[0m\u001b[37m\u001b[0m \u001b[1m28s\u001b[0m 11ms/step - accuracy: 0.2737 - loss: 3.4076 - val_accuracy: 0.1106 - val_loss: 10.7969\n",
            "Epoch 94/100\n",
            "\u001b[1m2647/2647\u001b[0m \u001b[32m━━━━━━━━━━━━━━━━━━━━\u001b[0m\u001b[37m\u001b[0m \u001b[1m28s\u001b[0m 10ms/step - accuracy: 0.2719 - loss: 3.4037 - val_accuracy: 0.1094 - val_loss: 10.8588\n",
            "Epoch 95/100\n",
            "\u001b[1m2647/2647\u001b[0m \u001b[32m━━━━━━━━━━━━━━━━━━━━\u001b[0m\u001b[37m\u001b[0m \u001b[1m27s\u001b[0m 10ms/step - accuracy: 0.2751 - loss: 3.3872 - val_accuracy: 0.1128 - val_loss: 10.9354\n",
            "Epoch 96/100\n",
            "\u001b[1m2647/2647\u001b[0m \u001b[32m━━━━━━━━━━━━━━━━━━━━\u001b[0m\u001b[37m\u001b[0m \u001b[1m27s\u001b[0m 10ms/step - accuracy: 0.2722 - loss: 3.4072 - val_accuracy: 0.1104 - val_loss: 10.8163\n",
            "Epoch 97/100\n",
            "\u001b[1m2647/2647\u001b[0m \u001b[32m━━━━━━━━━━━━━━━━━━━━\u001b[0m\u001b[37m\u001b[0m \u001b[1m27s\u001b[0m 10ms/step - accuracy: 0.2747 - loss: 3.3966 - val_accuracy: 0.1090 - val_loss: 10.7882\n",
            "Epoch 98/100\n",
            "\u001b[1m2647/2647\u001b[0m \u001b[32m━━━━━━━━━━━━━━━━━━━━\u001b[0m\u001b[37m\u001b[0m \u001b[1m27s\u001b[0m 10ms/step - accuracy: 0.2767 - loss: 3.3979 - val_accuracy: 0.1114 - val_loss: 10.9838\n",
            "Epoch 99/100\n",
            "\u001b[1m2647/2647\u001b[0m \u001b[32m━━━━━━━━━━━━━━━━━━━━\u001b[0m\u001b[37m\u001b[0m \u001b[1m41s\u001b[0m 10ms/step - accuracy: 0.2767 - loss: 3.3796 - val_accuracy: 0.1064 - val_loss: 10.8346\n",
            "Epoch 100/100\n",
            "\u001b[1m2647/2647\u001b[0m \u001b[32m━━━━━━━━━━━━━━━━━━━━\u001b[0m\u001b[37m\u001b[0m \u001b[1m27s\u001b[0m 10ms/step - accuracy: 0.2778 - loss: 3.3827 - val_accuracy: 0.1097 - val_loss: 10.7911\n"
          ]
        },
        {
          "output_type": "execute_result",
          "data": {
            "text/plain": [
              "<keras.src.callbacks.history.History at 0x78b6d20e35f0>"
            ]
          },
          "metadata": {},
          "execution_count": 29
        }
      ]
    },
    {
      "cell_type": "code",
      "source": [
        "import numpy as np\n",
        "from tensorflow.keras.preprocessing.sequence import pad_sequences\n"
      ],
      "metadata": {
        "id": "yzH-fX0jB1GY"
      },
      "execution_count": 31,
      "outputs": []
    },
    {
      "cell_type": "code",
      "source": [
        "def predict_next_word_topk(model, tokenizer, text, max_sequence_len, k=5):\n",
        "    token_list = tokenizer.texts_to_sequences([text])[0]\n",
        "    token_list = pad_sequences([token_list], maxlen=max_sequence_len, padding='pre')\n",
        "    predicted_probs = model.predict(token_list, verbose=0)[0]\n",
        "\n",
        "    # Pick top-k words\n",
        "    top_k_idx = np.argsort(predicted_probs)[-k:]\n",
        "    top_k_probs = predicted_probs[top_k_idx]\n",
        "    top_k_probs = top_k_probs / np.sum(top_k_probs)  # normalize\n",
        "    chosen_idx = np.random.choice(top_k_idx, p=top_k_probs)\n",
        "\n",
        "    return tokenizer.index_word[chosen_idx]\n"
      ],
      "metadata": {
        "id": "oKZAYW1_B1y7"
      },
      "execution_count": 32,
      "outputs": []
    },
    {
      "cell_type": "code",
      "source": [
        "seed_text = \"the sun is shining in\"\n",
        "for i in range(20):\n",
        "    next_word = predict_next_word_topk(model, tokenizer, seed_text, max_sequence_len=3, k=5)\n",
        "    seed_text += \" \" + next_word\n",
        "    print(seed_text)\n"
      ],
      "metadata": {
        "colab": {
          "base_uri": "https://localhost:8080/"
        },
        "id": "G09z8bNdB3I_",
        "outputId": "2ca8f896-ecfc-42d9-c068-0e806ee5c4d0"
      },
      "execution_count": 33,
      "outputs": [
        {
          "output_type": "stream",
          "name": "stdout",
          "text": [
            "the sun is shining in the\n",
            "the sun is shining in the air\n",
            "the sun is shining in the air of\n",
            "the sun is shining in the air of the\n",
            "the sun is shining in the air of the sort\n",
            "the sun is shining in the air of the sort in\n",
            "the sun is shining in the air of the sort in victoria\n",
            "the sun is shining in the air of the sort in victoria street\n",
            "the sun is shining in the air of the sort in victoria street with\n",
            "the sun is shining in the air of the sort in victoria street with brown\n",
            "the sun is shining in the air of the sort in victoria street with brown roads\n",
            "the sun is shining in the air of the sort in victoria street with brown roads gaped\n",
            "the sun is shining in the air of the sort in victoria street with brown roads gaped in\n",
            "the sun is shining in the air of the sort in victoria street with brown roads gaped in the\n",
            "the sun is shining in the air of the sort in victoria street with brown roads gaped in the room\n",
            "the sun is shining in the air of the sort in victoria street with brown roads gaped in the room and\n",
            "the sun is shining in the air of the sort in victoria street with brown roads gaped in the room and i\n",
            "the sun is shining in the air of the sort in victoria street with brown roads gaped in the room and i have\n",
            "the sun is shining in the air of the sort in victoria street with brown roads gaped in the room and i have no\n",
            "the sun is shining in the air of the sort in victoria street with brown roads gaped in the room and i have no difficulty\n"
          ]
        }
      ]
    },
    {
      "cell_type": "code",
      "source": [
        "model.save(\"next_word_model.keras\")   # Native Keras format\n"
      ],
      "metadata": {
        "id": "tFf8fXbgfZrT"
      },
      "execution_count": 35,
      "outputs": []
    },
    {
      "cell_type": "code",
      "source": [
        "model.export(\"next_word_model\")\n"
      ],
      "metadata": {
        "colab": {
          "base_uri": "https://localhost:8080/"
        },
        "id": "dwLpfqcAggaj",
        "outputId": "86b42f36-34ff-4a4d-a66d-53614a1c2a53"
      },
      "execution_count": 36,
      "outputs": [
        {
          "output_type": "stream",
          "name": "stdout",
          "text": [
            "Saved artifact at 'next_word_model'. The following endpoints are available:\n",
            "\n",
            "* Endpoint 'serve'\n",
            "  args_0 (POSITIONAL_ONLY): TensorSpec(shape=(None, 10), dtype=tf.float32, name='keras_tensor')\n",
            "Output Type:\n",
            "  TensorSpec(shape=(None, 8200), dtype=tf.float32, name=None)\n",
            "Captures:\n",
            "  132726607625488: TensorSpec(shape=(), dtype=tf.resource, name=None)\n",
            "  132726607623568: TensorSpec(shape=(), dtype=tf.resource, name=None)\n",
            "  132726607625296: TensorSpec(shape=(), dtype=tf.resource, name=None)\n",
            "  132726607624336: TensorSpec(shape=(), dtype=tf.resource, name=None)\n",
            "  132726597126672: TensorSpec(shape=(), dtype=tf.resource, name=None)\n",
            "  132726607624720: TensorSpec(shape=(), dtype=tf.resource, name=None)\n",
            "  132726607625872: TensorSpec(shape=(), dtype=tf.resource, name=None)\n",
            "  132728915645392: TensorSpec(shape=(), dtype=tf.resource, name=None)\n",
            "  132726597126864: TensorSpec(shape=(), dtype=tf.resource, name=None)\n",
            "  132726597124752: TensorSpec(shape=(), dtype=tf.resource, name=None)\n",
            "  132726597124560: TensorSpec(shape=(), dtype=tf.resource, name=None)\n",
            "  132726597124944: TensorSpec(shape=(), dtype=tf.resource, name=None)\n",
            "  132726597125904: TensorSpec(shape=(), dtype=tf.resource, name=None)\n"
          ]
        }
      ]
    },
    {
      "cell_type": "code",
      "source": [
        "model.save(\"next_word_model.h5\")\n"
      ],
      "metadata": {
        "colab": {
          "base_uri": "https://localhost:8080/"
        },
        "id": "i_8fj832gkWm",
        "outputId": "5ea94ef6-5c37-4e7d-97c7-528ffe11d19d"
      },
      "execution_count": 39,
      "outputs": [
        {
          "output_type": "stream",
          "name": "stderr",
          "text": [
            "WARNING:absl:You are saving your model as an HDF5 file via `model.save()` or `keras.saving.save_model(model)`. This file format is considered legacy. We recommend using instead the native Keras format, e.g. `model.save('my_model.keras')` or `keras.saving.save_model(model, 'my_model.keras')`. \n"
          ]
        }
      ]
    },
    {
      "cell_type": "code",
      "source": [],
      "metadata": {
        "id": "8Fz1DtkShDgS"
      },
      "execution_count": null,
      "outputs": []
    }
  ]
}